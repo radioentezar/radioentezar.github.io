{
 "cells": [
  {
   "cell_type": "code",
   "execution_count": 1,
   "metadata": {},
   "outputs": [],
   "source": [
    "import json\n",
    "import datetime"
   ]
  },
  {
   "cell_type": "code",
   "execution_count": 2,
   "metadata": {},
   "outputs": [],
   "source": [
    "dates = []\n",
    "firstdayoframathan = datetime.datetime(2022,4,3)\n",
    "mydate = firstdayoframathan\n",
    "\n",
    "for i in range(30):\n",
    "    dates.append(mydate)\n",
    "    mydate = mydate + datetime.timedelta(days=1)"
   ]
  },
  {
   "cell_type": "code",
   "execution_count": 5,
   "metadata": {},
   "outputs": [],
   "source": [
    "file = open(\"js/data.json\",encoding=\"utf-8\")\n",
    "data = json.load(file)\n",
    "file.close()"
   ]
  },
  {
   "cell_type": "code",
   "execution_count": 6,
   "metadata": {},
   "outputs": [],
   "source": [
    "for i in range(len(data[\"eftar\"])):\n",
    "    data[\"eftar\"][i][\"url\"] = f\"http://m.radioentezar.net/mp3/Eftar{str(i+1).zfill(2)}.mp3\"\n",
    "    data[\"eftar\"][i][\"date\"] = f\"{dates[i].month}/{dates[i].day}/{dates[i].year}\"\n",
    "    \n",
    "for i in range(len(data[\"sahar\"])):\n",
    "    data[\"sahar\"][i][\"url\"] = f\"http://m.radioentezar.net/mp3/sahar{str(i+1).zfill(2)}.mp3\"\n",
    "    data[\"sahar\"][i][\"date\"] = f\"{dates[i].month}/{dates[i].day}/{dates[i].year}\""
   ]
  },
  {
   "cell_type": "code",
   "execution_count": 7,
   "metadata": {},
   "outputs": [],
   "source": [
    "with open('data_.json', encoding='utf-8', mode='w+') as outfile:\n",
    "    json.dump(data, outfile)"
   ]
  }
 ],
 "metadata": {
  "kernelspec": {
   "display_name": "Python 3",
   "language": "python",
   "name": "python3"
  },
  "language_info": {
   "codemirror_mode": {
    "name": "ipython",
    "version": 3
   },
   "file_extension": ".py",
   "mimetype": "text/x-python",
   "name": "python",
   "nbconvert_exporter": "python",
   "pygments_lexer": "ipython3",
   "version": "3.9.9"
  }
 },
 "nbformat": 4,
 "nbformat_minor": 2
}
