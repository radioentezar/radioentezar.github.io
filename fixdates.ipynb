{
 "cells": [
  {
   "cell_type": "code",
   "execution_count": 6,
   "metadata": {},
   "outputs": [],
   "source": [
    "import json\n",
    "import datetime\n",
    "import os"
   ]
  },
  {
   "cell_type": "markdown",
   "metadata": {},
   "source": [
    "# Just put the first day of Ramathan here"
   ]
  },
  {
   "cell_type": "code",
   "execution_count": 10,
   "metadata": {},
   "outputs": [],
   "source": [
    "firstdayoframathan = datetime.datetime(2024,3,12)"
   ]
  },
  {
   "cell_type": "markdown",
   "metadata": {},
   "source": [
    "## now you can run the rest of the code"
   ]
  },
  {
   "cell_type": "code",
   "execution_count": 11,
   "metadata": {},
   "outputs": [],
   "source": [
    "dates = []\n",
    "mydate = firstdayoframathan\n",
    "\n",
    "for i in range(30):\n",
    "    dates.append(mydate)\n",
    "    mydate = mydate + datetime.timedelta(days=1)"
   ]
  },
  {
   "cell_type": "code",
   "execution_count": 12,
   "metadata": {},
   "outputs": [],
   "source": [
    "file = open(\"data.json\",encoding=\"utf-8\")\n",
    "data = json.load(file)\n",
    "file.close()"
   ]
  },
  {
   "cell_type": "code",
   "execution_count": 13,
   "metadata": {},
   "outputs": [],
   "source": [
    "for i in range(len(data[\"eftar\"])):\n",
    "    data[\"eftar\"][i][\"url\"] = f\"http://m.radioentezar.net/mp3/Eftar{str(i+1).zfill(2)}.mp3\"\n",
    "    data[\"eftar\"][i][\"date\"] = f\"{dates[i].month}/{dates[i].day}/{dates[i].year}\"\n",
    "    \n",
    "for i in range(len(data[\"sahar\"])):\n",
    "    data[\"sahar\"][i][\"url\"] = f\"http://m.radioentezar.net/mp3/sahar{str(i+1).zfill(2)}.mp3\"\n",
    "    data[\"sahar\"][i][\"date\"] = f\"{dates[i].month}/{dates[i].day}/{dates[i].year}\""
   ]
  },
  {
   "cell_type": "code",
   "execution_count": 14,
   "metadata": {},
   "outputs": [],
   "source": [
    "with open('data_new.json', encoding='utf-8', mode='w+') as outfile:\n",
    "    json.dump(data, outfile)"
   ]
  },
  {
   "cell_type": "code",
   "execution_count": 16,
   "metadata": {},
   "outputs": [],
   "source": [
    "#rename \"js/data.json\" to \"js/data.json_old{lastyear}\"\n",
    "#if \"js/data.json\" exists\n",
    "if os.path.exists(\"js/data.json\"):\n",
    "    os.rename(\"js/data.json\", f\"js/data.json_old{firstdayoframathan.year-1}\")\n",
    "os.rename(\"data_new.json\", \"js/data.json\")"
   ]
  }
 ],
 "metadata": {
  "kernelspec": {
   "display_name": "Python 3 (ipykernel)",
   "language": "python",
   "name": "python3"
  },
  "language_info": {
   "codemirror_mode": {
    "name": "ipython",
    "version": 3
   },
   "file_extension": ".py",
   "mimetype": "text/x-python",
   "name": "python",
   "nbconvert_exporter": "python",
   "pygments_lexer": "ipython3",
   "version": "3.10.9"
  }
 },
 "nbformat": 4,
 "nbformat_minor": 4
}
